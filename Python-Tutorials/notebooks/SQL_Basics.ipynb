{
 "cells": [
  {
   "cell_type": "markdown",
   "metadata": {
    "colab_type": "text",
    "id": "vE7uWn_EALKf"
   },
   "source": [
    "## SQL COMMANDS"
   ]
  },
  {
   "cell_type": "markdown",
   "metadata": {
    "colab_type": "text",
    "id": "-NbI6nUVASGQ"
   },
   "source": [
    "### Data Definition Language (DDL): Used to define database schema\n",
    "\n",
    "DDL commands:</br>\n",
    "\n",
    "CREATE – is used to create the database or its objects (like table, index, function, views, store procedure and triggers).</br>\n",
    "DROP – is used to delete objects from the database.</br>\n",
    "ALTER-is used to alter the structure of the database.</br>\n",
    "TRUNCATE–is used to remove all records from a table, including all spaces allocated for the records are removed.</br>\n",
    "**Now Lets See Some Examples**"
   ]
  },
  {
   "cell_type": "code",
   "execution_count": 67,
   "metadata": {
    "colab": {},
    "colab_type": "code",
    "collapsed": true,
    "id": "FayLXGf6AJV9"
   },
   "outputs": [],
   "source": [
    "import os\n",
    "if os.path.exists(\"chinook.db\"):\n",
    "   os.remove('chinook.db')\n",
    "\n",
    "import sqlite3\n",
    "conn = sqlite3.connect('chinook.db')\n",
    "cur=conn.cursor()"
   ]
  },
  {
   "cell_type": "code",
   "execution_count": 68,
   "metadata": {
    "colab": {},
    "colab_type": "code",
    "collapsed": true,
    "id": "B1_T97wyGZf9"
   },
   "outputs": [],
   "source": [
    "def execute(queryString):\n",
    "  conn.execute(queryString)\n",
    "  conn.commit()\n",
    "  \n",
    "  \n",
    "def executemany(queryString,data):\n",
    "  cur.executemany(queryString,data)\n",
    "  conn.commit()\n",
    "\n",
    "def showCursorData(cursor):\n",
    "  print(\"\\n\")\n",
    "  print(\"Result:\")  \n",
    "  for row in cursor:\n",
    "    print(row)\n",
    "  \n",
    "\n",
    "def showData(tbl):\n",
    "  query = 'SELECT * FROM {} ORDER BY 1'.format(tbl)\n",
    "  cursor = conn.execute(query)\n",
    "  for row in cursor:\n",
    "    print(row)\n",
    "\n",
    "def getColumnsInTable(tbl):\n",
    "    query = 'SELECT * FROM {}'.format(tbl)\n",
    "    cursor = conn.execute(query)\n",
    "    print(list(map(lambda x: x[0], cursor.description)))"
   ]
  },
  {
   "cell_type": "markdown",
   "metadata": {
    "colab_type": "text",
    "id": "VRKuvU4uCjhx"
   },
   "source": [
    "### CREATE TABLE "
   ]
  },
  {
   "cell_type": "code",
   "execution_count": 69,
   "metadata": {
    "colab": {},
    "colab_type": "code",
    "id": "p4rp8rqLnoNI"
   },
   "outputs": [
    {
     "name": "stdout",
     "output_type": "stream",
     "text": [
      "['region_id', 'region_name', 'region_code']\n"
     ]
    }
   ],
   "source": [
    "conn.execute(\"\"\"DROP table IF EXISTS regions\"\"\")\n",
    "conn.execute(\"\"\"DROP table IF EXISTS countries\"\"\")\n",
    "\n",
    "query1 = '''\n",
    "CREATE TABLE regions (\n",
    "    region_id INTEGER PRIMARY KEY AUTOINCREMENT NOT NULL,\n",
    "    region_name varchar(20) ,\n",
    "    region_code varchar(20)\n",
    ")\n",
    "'''\n",
    "execute(query1)\n",
    "getColumnsInTable('regions')"
   ]
  },
  {
   "cell_type": "code",
   "execution_count": 70,
   "metadata": {},
   "outputs": [
    {
     "name": "stdout",
     "output_type": "stream",
     "text": [
      "['country_id', 'region_id', 'country_growthRate']\n"
     ]
    }
   ],
   "source": [
    "# Let us create a Countries table that links regions table using a foreign key constraint\n",
    "query2 = '''\n",
    "CREATE TABLE countries (\n",
    "    country_id text PRIMARY KEY  NOT NULL,\n",
    "    region_id INTEGER NOT NULL,\n",
    "    country_growthRate decimal(5,2) DEFAULT 0,  /* Decimal type conversion */\n",
    "    FOREIGN KEY (region_id) REFERENCES regions (region_id) ON DELETE CASCADE ON UPDATE CASCADE\n",
    ")\n",
    "'''\n",
    "execute(query2)\n",
    "getColumnsInTable('countries')"
   ]
  },
  {
   "cell_type": "markdown",
   "metadata": {
    "colab_type": "text",
    "id": "kry2bWfEqJW0"
   },
   "source": [
    "### ALTER TABLE"
   ]
  },
  {
   "cell_type": "code",
   "execution_count": 71,
   "metadata": {
    "colab": {},
    "colab_type": "code",
    "id": "vwDmHeG4oDyX"
   },
   "outputs": [
    {
     "name": "stdout",
     "output_type": "stream",
     "text": [
      "['country_id', 'region_id', 'country_growthRate', 'country_name']\n"
     ]
    }
   ],
   "source": [
    "query= \"ALTER TABLE countries ADD country_name text\"\n",
    "execute(query)\n",
    "getColumnsInTable('countries')"
   ]
  },
  {
   "cell_type": "markdown",
   "metadata": {
    "colab_type": "text",
    "id": "Rv2YM6fCq8Hs"
   },
   "source": [
    "### DROP TABLE"
   ]
  },
  {
   "cell_type": "code",
   "execution_count": 72,
   "metadata": {
    "colab": {},
    "colab_type": "code",
    "id": "JAI16Zc8qYC5"
   },
   "outputs": [
    {
     "ename": "OperationalError",
     "evalue": "no such table: countries",
     "output_type": "error",
     "traceback": [
      "\u001b[0;31m---------------------------------------------------------------------------\u001b[0m",
      "\u001b[0;31mOperationalError\u001b[0m                          Traceback (most recent call last)",
      "\u001b[0;32m<ipython-input-72-6a02a6215a41>\u001b[0m in \u001b[0;36m<module>\u001b[0;34m()\u001b[0m\n\u001b[1;32m      1\u001b[0m \u001b[0mquery\u001b[0m \u001b[0;34m=\u001b[0m \u001b[0;34m\"DROP TABLE countries\"\u001b[0m\u001b[0;34m\u001b[0m\u001b[0m\n\u001b[1;32m      2\u001b[0m \u001b[0mexecute\u001b[0m\u001b[0;34m(\u001b[0m\u001b[0mquery\u001b[0m\u001b[0;34m)\u001b[0m\u001b[0;34m\u001b[0m\u001b[0m\n\u001b[0;32m----> 3\u001b[0;31m \u001b[0mgetColumnsInTable\u001b[0m\u001b[0;34m(\u001b[0m\u001b[0;34m'countries'\u001b[0m\u001b[0;34m)\u001b[0m\u001b[0;34m\u001b[0m\u001b[0m\n\u001b[0m",
      "\u001b[0;32m<ipython-input-68-1319cd2312cb>\u001b[0m in \u001b[0;36mgetColumnsInTable\u001b[0;34m(tbl)\u001b[0m\n\u001b[1;32m     23\u001b[0m \u001b[0;32mdef\u001b[0m \u001b[0mgetColumnsInTable\u001b[0m\u001b[0;34m(\u001b[0m\u001b[0mtbl\u001b[0m\u001b[0;34m)\u001b[0m\u001b[0;34m:\u001b[0m\u001b[0;34m\u001b[0m\u001b[0m\n\u001b[1;32m     24\u001b[0m     \u001b[0mquery\u001b[0m \u001b[0;34m=\u001b[0m \u001b[0;34m'SELECT * FROM {}'\u001b[0m\u001b[0;34m.\u001b[0m\u001b[0mformat\u001b[0m\u001b[0;34m(\u001b[0m\u001b[0mtbl\u001b[0m\u001b[0;34m)\u001b[0m\u001b[0;34m\u001b[0m\u001b[0m\n\u001b[0;32m---> 25\u001b[0;31m     \u001b[0mcursor\u001b[0m \u001b[0;34m=\u001b[0m \u001b[0mconn\u001b[0m\u001b[0;34m.\u001b[0m\u001b[0mexecute\u001b[0m\u001b[0;34m(\u001b[0m\u001b[0mquery\u001b[0m\u001b[0;34m)\u001b[0m\u001b[0;34m\u001b[0m\u001b[0m\n\u001b[0m\u001b[1;32m     26\u001b[0m     \u001b[0mprint\u001b[0m\u001b[0;34m(\u001b[0m\u001b[0mlist\u001b[0m\u001b[0;34m(\u001b[0m\u001b[0mmap\u001b[0m\u001b[0;34m(\u001b[0m\u001b[0;32mlambda\u001b[0m \u001b[0mx\u001b[0m\u001b[0;34m:\u001b[0m \u001b[0mx\u001b[0m\u001b[0;34m[\u001b[0m\u001b[0;36m0\u001b[0m\u001b[0;34m]\u001b[0m\u001b[0;34m,\u001b[0m \u001b[0mcursor\u001b[0m\u001b[0;34m.\u001b[0m\u001b[0mdescription\u001b[0m\u001b[0;34m)\u001b[0m\u001b[0;34m)\u001b[0m\u001b[0;34m)\u001b[0m\u001b[0;34m\u001b[0m\u001b[0m\n",
      "\u001b[0;31mOperationalError\u001b[0m: no such table: countries"
     ]
    }
   ],
   "source": [
    "query = \"DROP TABLE countries\"\n",
    "execute(query)\n",
    "getColumnsInTable('countries')"
   ]
  },
  {
   "cell_type": "markdown",
   "metadata": {
    "colab_type": "text",
    "id": "8HPdEeGZrXfF"
   },
   "source": [
    "### TRUNCATE TABLE : Removes the data retaining the structure of the table"
   ]
  },
  {
   "cell_type": "code",
   "execution_count": 73,
   "metadata": {
    "colab": {},
    "colab_type": "code",
    "id": "gYD8wQh3rFz1"
   },
   "outputs": [
    {
     "name": "stdout",
     "output_type": "stream",
     "text": [
      "(1, 'Europe', None)\n"
     ]
    }
   ],
   "source": [
    "# let us add some data before truncating\n",
    "insQuery=\"INSERT INTO regions(region_id,region_name) VALUES (1,'Europe')\"\n",
    "execute(insQuery)\n",
    "showData('regions')"
   ]
  },
  {
   "cell_type": "markdown",
   "metadata": {},
   "source": [
    "* SQLite does not have an explicit TRUNCATE TABLE command like other databases\n",
    "* Instead, it has added a TRUNCATE optimizer to the DELETE statement. \n",
    "* To truncate a table in SQLite, you just need to execute a DELETE statement without a WHERE clause. \n",
    "* The TRUNCATE optimizer handles the rest"
   ]
  },
  {
   "cell_type": "code",
   "execution_count": 74,
   "metadata": {},
   "outputs": [],
   "source": [
    "query=\"DELETE FROM regions\"\n",
    "execute(query)\n",
    "showData('regions')"
   ]
  },
  {
   "cell_type": "markdown",
   "metadata": {
    "colab_type": "text",
    "id": "p8UYDta0t_S4"
   },
   "source": [
    "### DML(Data Manipulation Language) : Deals with the manipulation of data present in database\n",
    "DML COMMANDS : <BR/>\n",
    "SELECT – is used to retrieve data from the a database.<BR/>\n",
    "INSERT – is used to insert data into a table.<BR/>\n",
    "UPDATE – is used to update existing data within a table.<BR/>\n",
    "DELETE – is used to delete records from a database table.<BR/>"
   ]
  },
  {
   "cell_type": "markdown",
   "metadata": {
    "colab_type": "text",
    "id": "BwfBzSIuuUdS"
   },
   "source": [
    "### INSERT"
   ]
  },
  {
   "cell_type": "code",
   "execution_count": 75,
   "metadata": {
    "colab": {},
    "colab_type": "code",
    "id": "hERzvUJgrKoz"
   },
   "outputs": [
    {
     "name": "stdout",
     "output_type": "stream",
     "text": [
      "(1, 'Europe', '001')\n",
      "(2, 'Argentina', None)\n",
      "(3, 'Asia', '002')\n"
     ]
    }
   ],
   "source": [
    "insQuery=\"INSERT INTO regions VALUES (1,'Europe','001')\"\n",
    "execute(insQuery)\n",
    "\n",
    "# Inserting NULL values\n",
    "insQuery2=\"INSERT INTO regions VALUES (2,'Argentina',NULL)\"\n",
    "execute(insQuery2)\n",
    "\n",
    "\n",
    "# Insert values in specific columns\n",
    "insQuery3=\"INSERT INTO regions(region_name,region_code) VALUES ('Asia','002')\"\n",
    "execute(insQuery3)\n",
    "showData(\"regions\")"
   ]
  },
  {
   "cell_type": "markdown",
   "metadata": {
    "colab_type": "text",
    "id": "JLVB57N0xJCB"
   },
   "source": [
    "### SELECT"
   ]
  },
  {
   "cell_type": "code",
   "execution_count": 76,
   "metadata": {
    "colab": {
     "base_uri": "https://localhost:8080/",
     "height": 187
    },
    "colab_type": "code",
    "id": "KpfVbao7uwqz",
    "outputId": "697f9491-4c7b-46f3-d628-bdd2ae08a481"
   },
   "outputs": [
    {
     "name": "stdout",
     "output_type": "stream",
     "text": [
      "\n",
      "\n",
      "Result:\n",
      "(1, 'Europe', '001')\n",
      "(2, 'Argentina', None)\n",
      "(3, 'Asia', '002')\n",
      "\n",
      "\n",
      "Result:\n",
      "(3, 'Asia', '002')\n"
     ]
    }
   ],
   "source": [
    "query=\"select * from regions\"\n",
    "cursor = conn.execute(query)\n",
    "showCursorData(cursor)\n",
    "\n",
    "# select using a condition\n",
    "\n",
    "query=\"select * from regions where region_code>='002'\"\n",
    "cursor = conn.execute(query)\n",
    "showCursorData(cursor)\n",
    "\n",
    "  "
   ]
  },
  {
   "cell_type": "markdown",
   "metadata": {
    "colab_type": "text",
    "id": "a2dL6TKjmItu"
   },
   "source": [
    "### UPDATE"
   ]
  },
  {
   "cell_type": "code",
   "execution_count": 77,
   "metadata": {
    "colab": {},
    "colab_type": "code",
    "id": "HrBAIPjCmH2S"
   },
   "outputs": [
    {
     "name": "stdout",
     "output_type": "stream",
     "text": [
      "(1, 'Europe', '001')\n",
      "(2, 'Argentina', '003')\n",
      "(3, 'Asia', '002')\n"
     ]
    }
   ],
   "source": [
    "# Updating single column\n",
    "updateQuery=\"UPDATE regions SET region_code='003' where region_id=2\"\n",
    "execute(updateQuery)\n",
    "showData('regions')"
   ]
  },
  {
   "cell_type": "code",
   "execution_count": 78,
   "metadata": {},
   "outputs": [
    {
     "name": "stdout",
     "output_type": "stream",
     "text": [
      "(1, 'Europe', '001')\n",
      "(2, 'America', '004')\n",
      "(3, 'Asia', '002')\n"
     ]
    }
   ],
   "source": [
    "# Updating multiple columns\n",
    "updateQuery2=\"UPDATE regions SET region_code='004',region_name='America' where region_id=2\"\n",
    "execute(updateQuery2)\n",
    "showData('regions')\n",
    "\n",
    "# If we omit the WHERE clause from the update query then all of the rows will get updated."
   ]
  },
  {
   "cell_type": "markdown",
   "metadata": {
    "colab_type": "text",
    "id": "5QTh6QvVkS4v"
   },
   "source": [
    "### DELETE  : *Used to delete the existing records from a table.*"
   ]
  },
  {
   "cell_type": "code",
   "execution_count": 79,
   "metadata": {
    "colab": {
     "base_uri": "https://localhost:8080/",
     "height": 51
    },
    "colab_type": "code",
    "id": "89jUKTmOh7Kl",
    "outputId": "8a6886e0-79d6-4ff6-e11c-e13dbb541c06"
   },
   "outputs": [
    {
     "name": "stdout",
     "output_type": "stream",
     "text": [
      "(1, 'Europe', '001')\n",
      "(2, 'America', '004')\n"
     ]
    }
   ],
   "source": [
    "delQuery=\"DELETE FROM regions where region_id>2\"\n",
    "execute(delQuery)\n",
    "showData('regions')\n",
    "\n",
    "# If we omit the WHERE clause from the delete query then all of the records will get deleted.\n"
   ]
  },
  {
   "cell_type": "markdown",
   "metadata": {
    "colab_type": "text",
    "id": "KeiwVnDpz-18"
   },
   "source": [
    "### JOINS :\n",
    "Three major types of joins −\n",
    "\n",
    "The CROSS JOIN<br/>\n",
    "The INNER JOIN<br/>\n",
    "The OUTER JOIN<br/>\n",
    "\n",
    "__Before we proceed , lets create two tables and populate data to it. __"
   ]
  },
  {
   "cell_type": "code",
   "execution_count": 80,
   "metadata": {
    "colab": {},
    "colab_type": "code",
    "collapsed": true,
    "id": "D3RJTw3vyRCc"
   },
   "outputs": [],
   "source": [
    "conn.execute(\"\"\"DROP table IF EXISTS departments\"\"\")\n",
    "conn.execute(\"\"\"DROP table IF EXISTS employees\"\"\")\n",
    "\n",
    "query= '''\n",
    "CREATE TABLE departments (\n",
    "    department_id INTEGER PRIMARY KEY AUTOINCREMENT NOT NULL,\n",
    "    department_name text NOT NULL\n",
    ")\n",
    "'''\n",
    "execute(query)\n",
    "\n",
    "query = '''\n",
    "CREATE TABLE employees (\n",
    "    employee_id INTEGER PRIMARY KEY AUTOINCREMENT NOT NULL,\n",
    "    first_name text,\n",
    "    last_name text NOT NULL,\n",
    "    email text NOT NULL,\n",
    "    phone_number text,\n",
    "    hire_date text NOT NULL,\n",
    "    emp_enroll_id INTEGER NOT NULL,\n",
    "    salary double NOT NULL,\n",
    "    manager_id INTEGER,\n",
    "    dep_id INTEGER NOT NULL,\n",
    "    FOREIGN KEY (dep_id) REFERENCES departments (department_id) ON DELETE CASCADE ON UPDATE CASCADE,\n",
    "    FOREIGN KEY (manager_id) REFERENCES employees (employee_id) ON DELETE CASCADE ON UPDATE CASCADE\n",
    ")\n",
    "'''\n",
    "execute(query)\n",
    "\n",
    "\n",
    "\n",
    "# lets populate some data\n",
    "\n",
    "dep_ins=\"INSERT INTO departments(department_id,department_name) VALUES (?,?)\"\n",
    "dep_data=[(1,'Administration'),(2,'Marketing'),(3,'Purchasing')]\n",
    "executemany(dep_ins,dep_data)\n",
    "\n",
    "emp_ins=\"INSERT INTO employees(employee_id,first_name,last_name,email,phone_number,hire_date,emp_enroll_id,salary,manager_id,dep_id) VALUES (?,?,?,?,?,?,?,?,?,?)\"\n",
    "emp_data=[(100,'Steven','King','steven.king@xyz.com','515.123.4567','1987-06-17',4,24000.00,0,1),\n",
    "         (101,'Neena','Kochhar','neena.kochhar@xyz.com','515.123.4568','1989-09-21',5,17000.00,100,2),\n",
    "         (102,'Lex','De Haan','lex.de haan@xyz.com','515.123.4569','1993-01-13',5,17000.00,100,3),\n",
    "         (103,'Alexander','Hunold','alexander.hunold@xyz.com','590.423.4567','1990-01-03',9,9000.00,102,2),\n",
    "         (104,'Bruce','Ernst','bruce.ernst@xyz.com','590.423.4568','1991-05-21',9,6000.00,103,1),\n",
    "         (105,'David','Austin','david.austin@xyz.com','590.423.4569','1997-06-25',9,4800.00,103,4)]\n",
    "executemany(emp_ins,emp_data)"
   ]
  },
  {
   "cell_type": "code",
   "execution_count": 81,
   "metadata": {
    "colab": {
     "base_uri": "https://localhost:8080/",
     "height": 119
    },
    "colab_type": "code",
    "id": "gG1XM4Euktyc",
    "outputId": "cc6c8d69-6232-4d76-a482-78c2656befea"
   },
   "outputs": [
    {
     "name": "stdout",
     "output_type": "stream",
     "text": [
      "(100, 'Steven', 'King', 'steven.king@xyz.com', '515.123.4567', '1987-06-17', 4, 24000.0, 0, 1)\n",
      "(101, 'Neena', 'Kochhar', 'neena.kochhar@xyz.com', '515.123.4568', '1989-09-21', 5, 17000.0, 100, 2)\n",
      "(102, 'Lex', 'De Haan', 'lex.de haan@xyz.com', '515.123.4569', '1993-01-13', 5, 17000.0, 100, 3)\n",
      "(103, 'Alexander', 'Hunold', 'alexander.hunold@xyz.com', '590.423.4567', '1990-01-03', 9, 9000.0, 102, 2)\n",
      "(104, 'Bruce', 'Ernst', 'bruce.ernst@xyz.com', '590.423.4568', '1991-05-21', 9, 6000.0, 103, 1)\n",
      "(105, 'David', 'Austin', 'david.austin@xyz.com', '590.423.4569', '1997-06-25', 9, 4800.0, 103, 4)\n"
     ]
    }
   ],
   "source": [
    "showData('employees')"
   ]
  },
  {
   "cell_type": "code",
   "execution_count": 82,
   "metadata": {},
   "outputs": [
    {
     "name": "stdout",
     "output_type": "stream",
     "text": [
      "(1, 'Administration')\n",
      "(2, 'Marketing')\n",
      "(3, 'Purchasing')\n"
     ]
    }
   ],
   "source": [
    "showData('departments')"
   ]
  },
  {
   "cell_type": "markdown",
   "metadata": {
    "colab_type": "text",
    "id": "EvxtZyrY3u-Z"
   },
   "source": [
    "### CROSS JOIN \n",
    "Matches every row of the first table with every row of the second table. If the input tables have x and y row, respectively, the resulting table will have x*y row. Because CROSS JOINs have the potential to generate extremely large tables, care must be taken to only use them when appropriate."
   ]
  },
  {
   "cell_type": "code",
   "execution_count": 83,
   "metadata": {
    "colab": {
     "base_uri": "https://localhost:8080/",
     "height": 374
    },
    "colab_type": "code",
    "id": "Tfs7x1Xp3WtH",
    "outputId": "1d782597-65a3-4e0a-8b6e-42d4ab873290"
   },
   "outputs": [
    {
     "name": "stdout",
     "output_type": "stream",
     "text": [
      "\n",
      "\n",
      "Result:\n",
      "(100, 'Steven', 'Administration')\n",
      "(100, 'Steven', 'Marketing')\n",
      "(100, 'Steven', 'Purchasing')\n",
      "(101, 'Neena', 'Administration')\n",
      "(101, 'Neena', 'Marketing')\n",
      "(101, 'Neena', 'Purchasing')\n",
      "(102, 'Lex', 'Administration')\n",
      "(102, 'Lex', 'Marketing')\n",
      "(102, 'Lex', 'Purchasing')\n",
      "(103, 'Alexander', 'Administration')\n",
      "(103, 'Alexander', 'Marketing')\n",
      "(103, 'Alexander', 'Purchasing')\n",
      "(104, 'Bruce', 'Administration')\n",
      "(104, 'Bruce', 'Marketing')\n",
      "(104, 'Bruce', 'Purchasing')\n",
      "(105, 'David', 'Administration')\n",
      "(105, 'David', 'Marketing')\n",
      "(105, 'David', 'Purchasing')\n"
     ]
    }
   ],
   "source": [
    "query = '''SELECT employee_id,first_name, department_name FROM employees CROSS JOIN departments'''\n",
    "cursor = conn.execute(query)\n",
    "showCursorData(cursor)\n"
   ]
  },
  {
   "cell_type": "markdown",
   "metadata": {
    "colab_type": "text",
    "id": "yveDl5aJ4jXY"
   },
   "source": [
    "### INNER JOIN\n",
    "INNER JOIN creates a new result table by combining column values of two tables (table1 and table2) based upon the join-predicate. \n",
    "Following is the syntax of INNER JOIN −\n",
    "\n",
    "**SELECT ... FROM table1 [INNER] JOIN table2 ON conditional_expression **...<br/>\n",
    "To avoid redundancy and keep the phrasing shorter, INNER JOIN conditions can be declared with a USING expression. This expression specifies a list of one or more columns.\n",
    "\n",
    "**SELECT ... FROM table1 JOIN table2 USING ( column1 ,... ) **...<br/>\n",
    "A NATURAL JOIN is similar to a JOIN...USING, only it automatically tests for equality between the values of every column that exists in both tables −\n",
    "\n",
    "**SELECT ... FROM table1 NATURAL JOIN table2.**...<br/>\n",
    "Based on the above tables, you can write an INNER JOIN as follows −"
   ]
  },
  {
   "cell_type": "code",
   "execution_count": 84,
   "metadata": {
    "colab": {
     "base_uri": "https://localhost:8080/",
     "height": 153
    },
    "colab_type": "code",
    "id": "srJPynIn4a8f",
    "outputId": "fed8f861-d92a-436f-ccd0-9723d3a17119"
   },
   "outputs": [
    {
     "name": "stdout",
     "output_type": "stream",
     "text": [
      "\n",
      "\n",
      "Result:\n",
      "(100, 'Steven', 'Administration')\n",
      "(101, 'Neena', 'Marketing')\n",
      "(102, 'Lex', 'Purchasing')\n",
      "(103, 'Alexander', 'Marketing')\n",
      "(104, 'Bruce', 'Administration')\n"
     ]
    }
   ],
   "source": [
    "query = '''SELECT employee_id,first_name, department_name FROM employees INNER JOIN departments ON employees.dep_id=departments.department_id'''\n",
    "cursor = conn.execute(query)\n",
    "showCursorData(cursor)\n"
   ]
  },
  {
   "cell_type": "markdown",
   "metadata": {
    "colab_type": "text",
    "id": "J4Jh1xuz6Sy8"
   },
   "source": [
    "### OUTER JOINS\n",
    "There are three types of OUTER JOINs: LEFT, RIGHT, and FULL\n",
    "\n",
    "\n",
    "OUTER JOINs have a condition that is identical to INNER JOINs, expressed using an ON, USING, or NATURAL keyword. The initial results table is calculated the same way. Once the primary JOIN is calculated, an OUTER JOIN will take any unjoined rows from one or both tables, pad them out with NULLs, and append them to the resulting table.\n",
    "\n"
   ]
  },
  {
   "cell_type": "code",
   "execution_count": 85,
   "metadata": {
    "colab": {
     "base_uri": "https://localhost:8080/",
     "height": 170
    },
    "colab_type": "code",
    "id": "usWnGz4B5yXn",
    "outputId": "ce18cd46-24b1-498e-9506-fb0ed98e0b5a"
   },
   "outputs": [
    {
     "name": "stdout",
     "output_type": "stream",
     "text": [
      "\n",
      "\n",
      "Result:\n",
      "(100, 'Steven', 'Administration')\n",
      "(101, 'Neena', 'Marketing')\n",
      "(102, 'Lex', 'Purchasing')\n",
      "(103, 'Alexander', 'Marketing')\n",
      "(104, 'Bruce', 'Administration')\n",
      "(105, 'David', None)\n"
     ]
    }
   ],
   "source": [
    "# To show example, SQLite only supports the LEFT OUTER JOIN.\n",
    "query = '''SELECT employee_id,first_name, department_name FROM employees LEFT JOIN departments ON employees.dep_id=departments.department_id'''\n",
    "cursor = conn.execute(query)\n",
    "showCursorData(cursor)"
   ]
  },
  {
   "cell_type": "markdown",
   "metadata": {
    "colab_type": "text",
    "id": "5LVmemLJ-ZTV"
   },
   "source": [
    "### SUBQUERY\n",
    "A Subquery or Inner query or a Nested query is a query within another SQL query and embedded within the WHERE clause.\n",
    "\n",
    "A subquery is used to return data that will be used in the main query as a condition to further restrict the data to be retrieved.\n",
    "\n",
    "Subqueries can be used with the SELECT, INSERT, UPDATE, and DELETE statements along with the operators like =, <, >, >=, <=, IN, BETWEEN, etc.\n",
    "\n"
   ]
  },
  {
   "cell_type": "code",
   "execution_count": 86,
   "metadata": {
    "colab": {
     "base_uri": "https://localhost:8080/",
     "height": 119
    },
    "colab_type": "code",
    "id": "DN4qXs6Y8PSl",
    "outputId": "fa6c04a6-7bf1-4854-a109-18542765b6a9"
   },
   "outputs": [
    {
     "name": "stdout",
     "output_type": "stream",
     "text": [
      "\n",
      "\n",
      "Result:\n",
      "(100, 'Steven', 'steven.king@xyz.com')\n",
      "(101, 'Neena', 'neena.kochhar@xyz.com')\n",
      "(102, 'Lex', 'lex.de haan@xyz.com')\n"
     ]
    }
   ],
   "source": [
    "# EXAMPLE\n",
    "query = '''SELECT employee_id,first_name,email FROM employees WHERE employee_id IN (SELECT employee_id FROM employees WHERE salary>10000)'''\n",
    "cursor = conn.execute(query)\n",
    "showCursorData(cursor)"
   ]
  },
  {
   "cell_type": "markdown",
   "metadata": {
    "colab_type": "text",
    "id": "LMeMJfPv_aa5"
   },
   "source": [
    "### UNION\n",
    "UNION clause/operator is used to combine the results of two or more SELECT statements without returning any duplicate rows.\n",
    "\n",
    "To use this UNION clause, each SELECT statement must have\n",
    "\n",
    "The same number of columns selected\n",
    "\n",
    "The same number of column expressions\n",
    "\n",
    "The same data type and\n",
    "\n",
    "Have them in the same order\n",
    "\n",
    "But they need not have to be in the same length."
   ]
  },
  {
   "cell_type": "code",
   "execution_count": 87,
   "metadata": {
    "colab": {
     "base_uri": "https://localhost:8080/",
     "height": 170
    },
    "colab_type": "code",
    "id": "mvUJ6-A8_AhP",
    "outputId": "303675f2-52dd-4d9c-9db3-71b0e01f0282"
   },
   "outputs": [
    {
     "name": "stdout",
     "output_type": "stream",
     "text": [
      "\n",
      "\n",
      "Result:\n",
      "(100, 'Steven', 'Administration')\n",
      "(101, 'Neena', 'Marketing')\n",
      "(102, 'Lex', 'Purchasing')\n",
      "(103, 'Alexander', 'Marketing')\n",
      "(104, 'Bruce', 'Administration')\n",
      "(105, 'David', None)\n"
     ]
    }
   ],
   "source": [
    "\n",
    "query = '''SELECT employee_id,first_name, department_name FROM employees INNER JOIN departments \n",
    "ON employees.dep_id=departments.department_id\n",
    "UNION\n",
    "SELECT employee_id,first_name, department_name FROM employees LEFT JOIN departments\n",
    "ON employees.dep_id=departments.department_id\n",
    "'''\n",
    "cursor = conn.execute(query)\n",
    "showCursorData(cursor)\n"
   ]
  },
  {
   "cell_type": "markdown",
   "metadata": {
    "colab_type": "text",
    "id": "4eVqu7CsAId4"
   },
   "source": [
    "### The UNION ALL Clause\n",
    "The UNION ALL operator is used to combine the results of two SELECT statements including duplicate rows.\n",
    "\n",
    "The same rules that apply to UNION apply to the UNION ALL operator as well."
   ]
  },
  {
   "cell_type": "code",
   "execution_count": 88,
   "metadata": {
    "colab": {
     "base_uri": "https://localhost:8080/",
     "height": 255
    },
    "colab_type": "code",
    "id": "gos6KKO3ABN2",
    "outputId": "66be2846-c15b-4722-9799-137f940f198a"
   },
   "outputs": [
    {
     "name": "stdout",
     "output_type": "stream",
     "text": [
      "\n",
      "\n",
      "Result:\n",
      "(100, 'Steven', 'Administration')\n",
      "(101, 'Neena', 'Marketing')\n",
      "(102, 'Lex', 'Purchasing')\n",
      "(103, 'Alexander', 'Marketing')\n",
      "(104, 'Bruce', 'Administration')\n",
      "(100, 'Steven', 'Administration')\n",
      "(101, 'Neena', 'Marketing')\n",
      "(102, 'Lex', 'Purchasing')\n",
      "(103, 'Alexander', 'Marketing')\n",
      "(104, 'Bruce', 'Administration')\n",
      "(105, 'David', None)\n"
     ]
    }
   ],
   "source": [
    "query = '''SELECT employee_id,first_name, department_name FROM employees INNER JOIN departments \n",
    "ON employees.dep_id=departments.department_id\n",
    "UNION ALL\n",
    "SELECT employee_id,first_name, department_name FROM employees LEFT JOIN departments\n",
    "ON employees.dep_id=departments.department_id\n",
    "'''\n",
    "cursor = conn.execute(query)\n",
    "showCursorData(cursor)"
   ]
  }
 ],
 "metadata": {
  "colab": {
   "collapsed_sections": [],
   "name": "SQL_Basics",
   "provenance": [],
   "version": "0.3.2"
  },
  "kernelspec": {
   "display_name": "Python 3",
   "language": "python",
   "name": "python3"
  },
  "language_info": {
   "codemirror_mode": {
    "name": "ipython",
    "version": 3
   },
   "file_extension": ".py",
   "mimetype": "text/x-python",
   "name": "python",
   "nbconvert_exporter": "python",
   "pygments_lexer": "ipython3",
   "version": "3.6.1"
  }
 },
 "nbformat": 4,
 "nbformat_minor": 1
}
