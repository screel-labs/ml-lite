{
 "cells": [
  {
   "cell_type": "markdown",
   "metadata": {
    "colab_type": "text",
    "id": "BK6rMPwXUVSf"
   },
   "source": [
    "## ADVANCED SQL"
   ]
  },
  {
   "cell_type": "code",
   "execution_count": 1,
   "metadata": {
    "colab": {},
    "colab_type": "code",
    "collapsed": true,
    "id": "86WDpcqwRvdL"
   },
   "outputs": [],
   "source": [
    "import os\n",
    "if os.path.exists(\"chinook.db\"):\n",
    "   os.remove('chinook.db')\n",
    "\n",
    "import sqlite3\n",
    "conn = sqlite3.connect('chinook.db')\n",
    "cur=conn.cursor()"
   ]
  },
  {
   "cell_type": "code",
   "execution_count": 2,
   "metadata": {
    "colab": {},
    "colab_type": "code",
    "collapsed": true,
    "id": "6LsAQUHxUUEP"
   },
   "outputs": [],
   "source": [
    "def execute(queryString):\n",
    "  conn.execute(queryString)\n",
    "  conn.commit()\n",
    "  \n",
    "  \n",
    "def executemany(queryString,data):\n",
    "  cur.executemany(queryString,data)\n",
    "  conn.commit()\n",
    "\n",
    "def showCursorData(cursor):\n",
    "  print(\"\\n\")\n",
    "  print(\"Result:\")  \n",
    "  for row in cursor:\n",
    "    print(row)\n",
    "  \n",
    "\n",
    "def showData(tbl):\n",
    "  query = 'SELECT * FROM {} ORDER BY 1'.format(tbl)\n",
    "  cursor = conn.execute(query)\n",
    "  for row in cursor:\n",
    "    print(row)\n"
   ]
  },
  {
   "cell_type": "markdown",
   "metadata": {
    "colab_type": "text",
    "id": "jyH9Qh2kUZsY"
   },
   "source": [
    "\n",
    "### Let's cover joining tables with three or more tables and using sub-queries to join. To proceed with, lets create the appropriate base tables and populate data to it. "
   ]
  },
  {
   "cell_type": "code",
   "execution_count": 3,
   "metadata": {
    "colab": {},
    "colab_type": "code",
    "collapsed": true,
    "id": "_2WSjClSUUky"
   },
   "outputs": [],
   "source": [
    "\n",
    "conn.execute(\"\"\"DROP table IF EXISTS locations\"\"\")\n",
    "conn.execute(\"\"\"DROP table IF EXISTS departments\"\"\")\n",
    "conn.execute(\"\"\"DROP table IF EXISTS jobs\"\"\")\n",
    "conn.execute(\"\"\"DROP table IF EXISTS employees\"\"\")\n",
    "\n",
    "cur.execute(\"\"\"\n",
    "CREATE TABLE locations (\n",
    "    location_id INTEGER PRIMARY KEY AUTOINCREMENT NOT NULL,\n",
    "    street_address text,\n",
    "    postal_code text,\n",
    "    city text NOT NULL,\n",
    "    state_province text\n",
    ")\"\"\")\n",
    "\n",
    "cur.execute(\"\"\" \n",
    "CREATE TABLE departments (\n",
    "    department_id INTEGER PRIMARY KEY AUTOINCREMENT NOT NULL,\n",
    "    department_name text NOT NULL,\n",
    "    location_id INTEGER NOT NULL,\n",
    "    FOREIGN KEY (location_id) REFERENCES locations (location_id) ON DELETE CASCADE ON UPDATE CASCADE\n",
    ")\"\"\")\n",
    "\n",
    "cur.execute(\"\"\" \n",
    "CREATE TABLE jobs (\n",
    "    job_id INTEGER PRIMARY KEY AUTOINCREMENT NOT NULL,\n",
    "    job_title text NOT NULL,\n",
    "    min_salary double NOT NULL,\n",
    "    max_salary double NOT NULL\n",
    ")\"\"\")\n",
    "\n",
    "cur.execute(\"\"\" \n",
    "CREATE TABLE employees (\n",
    "    employee_id INTEGER PRIMARY KEY AUTOINCREMENT NOT NULL,\n",
    "    first_name text,\n",
    "    last_name text NOT NULL,\n",
    "    email text NOT NULL,\n",
    "    phone_number text,\n",
    "    hire_date text NOT NULL,\n",
    "    job_id INTEGER NOT NULL,\n",
    "    salary double NOT NULL,\n",
    "    manager_id INTEGER,\n",
    "    department_id INTEGER NOT NULL,\n",
    "    FOREIGN KEY (job_id) REFERENCES jobs (job_id) ON DELETE CASCADE ON UPDATE CASCADE,\n",
    "    FOREIGN KEY (department_id) REFERENCES departments (department_id) ON DELETE CASCADE ON UPDATE CASCADE,\n",
    "    FOREIGN KEY (manager_id) REFERENCES employees (employee_id) ON DELETE CASCADE ON UPDATE CASCADE\n",
    ")\"\"\")\n",
    "\n",
    "conn.commit()"
   ]
  },
  {
   "cell_type": "code",
   "execution_count": 4,
   "metadata": {
    "colab": {},
    "colab_type": "code",
    "collapsed": true,
    "id": "HSnBqNebV4d5"
   },
   "outputs": [],
   "source": [
    "\n",
    "# insert data to each table\n",
    "loc_ins=\"INSERT INTO locations(location_id,street_address,postal_code,city,state_province) VALUES (?,?,?,?,?)\"\n",
    "loc_data=[(1400,'2014 Jabberwocky Rd','26192','Southlake','Texas'),\n",
    "         (1500,'2011 Interiors Blvd','99236','South San Francisco','California')]\n",
    "executemany(loc_ins,loc_data)\n",
    "\n",
    "dep_ins=\"INSERT INTO departments(department_id,department_name,location_id) VALUES (?,?,?)\"\n",
    "dep_data=[(1,'Administration',1400),(2,'Marketing',1500),(3,'Purchasing',1500)]\n",
    "executemany(dep_ins,dep_data)\n",
    "\n",
    "\n",
    "job_ins=\"INSERT INTO jobs(job_id,job_title,min_salary,max_salary) VALUES (?,?,?,?)\"\n",
    "job_data = [(1,'Public Accountant',4200.00,9000.00),\n",
    "            (2,'Accounting Manager',8200.00,16000.00),\n",
    "            (3,'Accountant',4200.00,9000.00),\n",
    "            (4,'Finance Manager',8200.00,16000.00)]\n",
    "executemany(job_ins,job_data)\n",
    "\n",
    "emp_ins=\"INSERT INTO employees(employee_id,first_name,last_name,email,phone_number,hire_date,job_id,salary,manager_id,department_id) VALUES (?,?,?,?,?,?,?,?,?,?)\"\n",
    "emp_data=[(100,'Steven','King','steven.king@xyz.com','515.123.4567','1987-06-17',4,24000.00,100,1),\n",
    "         (101,'Neena','Kochhar','neena.kochhar@xyz.com','515.123.4568','1989-09-21',3,17000.00,100,2),\n",
    "         (102,'Lex','De Haan','lex.de haan@xyz.com','515.123.4569','1993-01-13',3,17000.00,100,3),\n",
    "         (103,'Alexander','Hunold','alexander.hunold@xyz.com','590.423.4567','1990-01-03',1,9000.00,102,2),\n",
    "         (104,'Bruce','Ernst','bruce.ernst@xyz.com','590.423.4568','1991-05-21',2,6000.00,103,1),\n",
    "         (105,'David','Austin','david.austin@xyz.com','590.423.4569','1997-06-25',1,4800.00,103,4)]\n",
    "executemany(emp_ins,emp_data)"
   ]
  },
  {
   "cell_type": "code",
   "execution_count": 5,
   "metadata": {
    "colab": {
     "base_uri": "https://localhost:8080/",
     "height": 119
    },
    "colab_type": "code",
    "id": "oFq6vOL2Xtuw",
    "outputId": "e842fc0b-821a-4af2-c8e8-31087f9d64ae",
    "scrolled": true
   },
   "outputs": [
    {
     "name": "stdout",
     "output_type": "stream",
     "text": [
      "(100, 'Steven', 'King', 'steven.king@xyz.com', '515.123.4567', '1987-06-17', 4, 24000.0, 100, 1)\n",
      "(101, 'Neena', 'Kochhar', 'neena.kochhar@xyz.com', '515.123.4568', '1989-09-21', 3, 17000.0, 100, 2)\n",
      "(102, 'Lex', 'De Haan', 'lex.de haan@xyz.com', '515.123.4569', '1993-01-13', 3, 17000.0, 100, 3)\n",
      "(103, 'Alexander', 'Hunold', 'alexander.hunold@xyz.com', '590.423.4567', '1990-01-03', 1, 9000.0, 102, 2)\n",
      "(104, 'Bruce', 'Ernst', 'bruce.ernst@xyz.com', '590.423.4568', '1991-05-21', 2, 6000.0, 103, 1)\n",
      "(105, 'David', 'Austin', 'david.austin@xyz.com', '590.423.4569', '1997-06-25', 1, 4800.0, 103, 4)\n"
     ]
    }
   ],
   "source": [
    "showData('employees')"
   ]
  },
  {
   "cell_type": "code",
   "execution_count": 6,
   "metadata": {},
   "outputs": [
    {
     "name": "stdout",
     "output_type": "stream",
     "text": [
      "(1, 'Public Accountant', 4200.0, 9000.0)\n",
      "(2, 'Accounting Manager', 8200.0, 16000.0)\n",
      "(3, 'Accountant', 4200.0, 9000.0)\n",
      "(4, 'Finance Manager', 8200.0, 16000.0)\n"
     ]
    }
   ],
   "source": [
    "showData('jobs')"
   ]
  },
  {
   "cell_type": "code",
   "execution_count": 7,
   "metadata": {},
   "outputs": [
    {
     "name": "stdout",
     "output_type": "stream",
     "text": [
      "(1, 'Administration', 1400)\n",
      "(2, 'Marketing', 1500)\n",
      "(3, 'Purchasing', 1500)\n"
     ]
    }
   ],
   "source": [
    "showData('departments')"
   ]
  },
  {
   "cell_type": "code",
   "execution_count": 8,
   "metadata": {},
   "outputs": [
    {
     "name": "stdout",
     "output_type": "stream",
     "text": [
      "(1400, '2014 Jabberwocky Rd', '26192', 'Southlake', 'Texas')\n",
      "(1500, '2011 Interiors Blvd', '99236', 'South San Francisco', 'California')\n"
     ]
    }
   ],
   "source": [
    "showData('locations')"
   ]
  },
  {
   "cell_type": "markdown",
   "metadata": {
    "colab_type": "text",
    "id": "jmenuhP1Yina"
   },
   "source": [
    "### COMPLEX JOINS\n"
   ]
  },
  {
   "cell_type": "code",
   "execution_count": 9,
   "metadata": {
    "colab": {
     "base_uri": "https://localhost:8080/",
     "height": 190
    },
    "colab_type": "code",
    "id": "sldTYOc1YRZH",
    "outputId": "e6fb7e33-f765-4f5a-a965-b42704d3a677"
   },
   "outputs": [
    {
     "name": "stdout",
     "output_type": "stream",
     "text": [
      "\n",
      "\n",
      "Result:\n",
      "(100, 'Steven King', 'steven.king@xyz.com', '515.123.4567', '1987-06-17', '$24000', 'works as Finance Manager in Administration department (manager: Steven King)', '2014 Jabberwocky Rd, 26192, Southlake, Texas')\n",
      "(101, 'Neena Kochhar', 'neena.kochhar@xyz.com', '515.123.4568', '1989-09-21', '$17000', 'works as Accountant in Marketing department (manager: Steven King)', '2011 Interiors Blvd, 99236, South San Francisco, California')\n",
      "(102, 'Lex De Haan', 'lex.de haan@xyz.com', '515.123.4569', '1993-01-13', '$17000', 'works as Accountant in Purchasing department (manager: Steven King)', '2011 Interiors Blvd, 99236, South San Francisco, California')\n",
      "(103, 'Alexander Hunold', 'alexander.hunold@xyz.com', '590.423.4567', '1990-01-03', '$9000', 'works as Public Accountant in Marketing department (manager: Lex De Haan)', '2011 Interiors Blvd, 99236, South San Francisco, California')\n",
      "(104, 'Bruce Ernst', 'bruce.ernst@xyz.com', '590.423.4568', '1991-05-21', '$6000', 'works as Accounting Manager in Administration department (manager: Alexander Hunold)', '2014 Jabberwocky Rd, 26192, Southlake, Texas')\n",
      "(105, 'David Austin', 'david.austin@xyz.com', '590.423.4569', '1997-06-25', '$4800', None, None)\n"
     ]
    }
   ],
   "source": [
    "query=\"\"\"\n",
    "SELECT\n",
    "  e.employee_id AS \"Employee #\"\n",
    "  , e.first_name || ' ' || e.last_name AS \"Name\"\n",
    "  , e.email AS \"Email\"\n",
    "  , e.phone_number AS \"Phone\"\n",
    "  , e.hire_date AS \"Hire Date\"\n",
    "  , '$' || cast(e.salary as int) AS \"Salary\"\n",
    "  , 'works as ' || j.job_title || ' in ' || d.department_name || ' department (manager: '\n",
    "    || m.first_name || ' ' || m.last_name || ')' AS \"Current Job\"\n",
    "   , l.street_address || ', ' || l.postal_code || ', ' || l.city || ', ' || l.state_province AS \"Location\"\n",
    "   \n",
    "FROM employees e\n",
    "-- to get title of current job_id\n",
    "  JOIN jobs j \n",
    "    ON e.job_id = j.job_id\n",
    "-- to get name of current manager_id\n",
    "  LEFT JOIN employees m \n",
    "    ON e.manager_id = m.employee_id\n",
    "-- to get name of current department_id\n",
    "  LEFT JOIN departments d \n",
    "    ON d.department_id = e.department_id\n",
    "-- to get name of location\n",
    "  LEFT JOIN locations l\n",
    "    ON d.location_id = l.location_id\n",
    "ORDER BY e.employee_id\n",
    "\n",
    "\"\"\"\n",
    "cursor = conn.execute(query)\n",
    "showCursorData(cursor)\n",
    "\n",
    "#Note: Employee David Austin has no department associated , hence results to None in the output."
   ]
  },
  {
   "cell_type": "markdown",
   "metadata": {
    "colab_type": "text",
    "id": "b9yU7R9xejr6"
   },
   "source": [
    "### CORRELATED SUBQUERIES"
   ]
  },
  {
   "cell_type": "markdown",
   "metadata": {
    "colab_type": "text",
    "id": "kZKIy8Lep_nO"
   },
   "source": [
    "**WHAT IS..**\n",
    "Correlated subqueries are used for row-by-row processing. Each subquery is executed once for every row of the outer query.\n",
    "\n",
    "**Difference between Correlated and Nested Subqueries** <br/>\n",
    "\n",
    "Correlated : Fetch by the outer query, execute the inner query using the value of the outer query, use the values resulting from the inner query to qualify or disqualify the outer query . A Corelated Sub-query should refer its parent(main Query) Table in it .\n",
    "\n",
    "\n",
    "Nested subquery : The inner query executes first and finds a value, the outer query executes once using the value from the inner query \n",
    "\n",
    "**Let's see an example:**"
   ]
  },
  {
   "cell_type": "code",
   "execution_count": 10,
   "metadata": {
    "colab": {
     "base_uri": "https://localhost:8080/",
     "height": 136
    },
    "colab_type": "code",
    "id": "Ho2iDAG2dGqN",
    "outputId": "8e63d7ce-f811-435d-a210-1c043033c63d"
   },
   "outputs": [
    {
     "name": "stdout",
     "output_type": "stream",
     "text": [
      "\n",
      "\n",
      "Result:\n",
      "(100, 24000.0, 1)\n",
      "(101, 17000.0, 2)\n",
      "(102, 17000.0, 3)\n",
      "(105, 4800.0, 4)\n"
     ]
    }
   ],
   "source": [
    "# Correlated \n",
    "# Query To Find all employees whose salary is above average for their department\n",
    "\n",
    "\n",
    "query=\"\"\"select employee_id,salary,department_id\n",
    "from employees e \n",
    "where salary>=(select avg(salary) \n",
    "           from employees where department_id=e.department_id)\n",
    "\n",
    "\"\"\"\n",
    "cursor = conn.execute(query)\n",
    "showCursorData(cursor)\n",
    "           "
   ]
  },
  {
   "cell_type": "code",
   "execution_count": 11,
   "metadata": {
    "colab": {
     "base_uri": "https://localhost:8080/",
     "height": 119
    },
    "colab_type": "code",
    "id": "fysgCK4WrFuF",
    "outputId": "cb0c1f01-9bae-4c45-cf29-593fe8b93a7f"
   },
   "outputs": [
    {
     "name": "stdout",
     "output_type": "stream",
     "text": [
      "\n",
      "\n",
      "Result:\n",
      "('Steven', 24000.0)\n",
      "('Neena', 17000.0)\n",
      "('Lex', 17000.0)\n"
     ]
    }
   ],
   "source": [
    "# Nested subquery\n",
    "query=\"\"\"select first_name, salary \n",
    "from employees  where salary > (select salary\n",
    "                       from employees where first_name like '%Alex%')\"\"\"\n",
    "cursor = conn.execute(query)\n",
    "showCursorData(cursor)\n",
    "           "
   ]
  },
  {
   "cell_type": "markdown",
   "metadata": {
    "colab_type": "text",
    "id": "iAeyrUsssZAh"
   },
   "source": [
    "### VIEWS <BR/>\n",
    "A view is nothing more than a SQL statement that is stored in the database with an associated name. A view is actually a composition of a table in the form of a predefined SQL query.\n",
    "\n",
    "*NOTE : Sqlite supports only CREATE & DROP VIEWS*\n",
    "\n",
    "**CREATE VIEW**<br/>\n",
    "Let us create a view from our location table . "
   ]
  },
  {
   "cell_type": "code",
   "execution_count": 12,
   "metadata": {
    "colab": {
     "base_uri": "https://localhost:8080/",
     "height": 34
    },
    "colab_type": "code",
    "id": "2l-h5wuYru07",
    "outputId": "1e9100f3-c80c-4206-f5d8-8db0d6b319b4"
   },
   "outputs": [
    {
     "data": {
      "text/plain": [
       "<sqlite3.Cursor at 0x7f4ccef4d110>"
      ]
     },
     "execution_count": 12,
     "metadata": {},
     "output_type": "execute_result"
    }
   ],
   "source": [
    "conn.execute('''CREATE VIEW LOCATION_VIEW AS\n",
    "SELECT postal_code,city,state_province\n",
    "FROM  LOCATIONS ''')"
   ]
  },
  {
   "cell_type": "code",
   "execution_count": 13,
   "metadata": {
    "colab": {
     "base_uri": "https://localhost:8080/",
     "height": 102
    },
    "colab_type": "code",
    "id": "Bt-3zAjstMXI",
    "outputId": "d97ecbb9-57f3-46b9-8b65-7be6b5c1240c"
   },
   "outputs": [
    {
     "name": "stdout",
     "output_type": "stream",
     "text": [
      "\n",
      "\n",
      "Result:\n",
      "('26192', 'Southlake', 'Texas')\n",
      "('99236', 'South San Francisco', 'California')\n"
     ]
    }
   ],
   "source": [
    "# Now, you can query LOCATION_VIEW in a similar way as you query an actual table. Following is an example for the same.\n",
    "\n",
    "query=\"\"\"SELECT * FROM LOCATION_VIEW\"\"\"\n",
    "cursor = conn.execute(query)\n",
    "showCursorData(cursor)\n",
    "   "
   ]
  },
  {
   "cell_type": "markdown",
   "metadata": {
    "colab_type": "text",
    "id": "5eLX78nAzwZq"
   },
   "source": [
    "### WITH CHECK OPTION\n",
    "The WITH CHECK OPTION is a CREATE VIEW statement option. The purpose of the WITH CHECK OPTION is to ensure that all UPDATE and INSERTs satisfy the condition(s) in the view definition.\n",
    "\n",
    "**Example :<br/>\n",
    "CREATE VIEW EMPLOYEES_VIEW AS <br/>\n",
    "SELECT first_name,salary <br/>\n",
    "FROM  employees <br/>\n",
    "WHERE salary IS NOT NULL <br/>\n",
    "WITH CHECK OPTION;** <br/>\n",
    "\n",
    "The WITH CHECK OPTION in this case should deny the entry of any NULL values in the view's salary column, because the view is defined by data that does not have a NULL value in the salary column.\n",
    "\n",
    "\n",
    "### UPDATING VIEW\n",
    "\n",
    "A view can be updated under certain conditions which are given below −\n",
    "\n",
    "The SELECT clause may not contain the keyword DISTINCT.\n",
    "\n",
    "The SELECT clause may not contain summary functions.\n",
    "\n",
    "The SELECT clause may not contain set functions.\n",
    "\n",
    "The SELECT clause may not contain set operators.\n",
    "\n",
    "The SELECT clause may not contain an ORDER BY clause.\n",
    "\n",
    "The FROM clause may not contain multiple tables.\n",
    "\n",
    "The WHERE clause may not contain subqueries.\n",
    "\n",
    "The query may not contain GROUP BY or HAVING.\n",
    "\n",
    "Calculated columns may not be updated.\n",
    "\n",
    "All NOT NULL columns from the base table must be included in the view in order for the INSERT query to function.\n",
    "\n",
    "**Example:<br/>\n",
    "UPDATE  EMPLOYEES_VIEW <br/>\n",
    "   SET salary = 35000<br/>\n",
    "   WHERE first_name like '%David'<br/>**\n",
    "   \n",
    "\n",
    "### DROPPING VIEWS\n",
    "To drop a view, simply use the DROP VIEW statement with the view_name. \n"
   ]
  },
  {
   "cell_type": "code",
   "execution_count": 0,
   "metadata": {
    "colab": {
     "base_uri": "https://localhost:8080/",
     "height": 231
    },
    "colab_type": "code",
    "id": "C-LS7N0rtnMB",
    "outputId": "07020b1e-dc19-4e09-9497-ff64c11ef70e"
   },
   "outputs": [
    {
     "ename": "OperationalError",
     "evalue": "ignored",
     "output_type": "error",
     "traceback": [
      "\u001b[0;31m---------------------------------------------------------------------------\u001b[0m",
      "\u001b[0;31mOperationalError\u001b[0m                          Traceback (most recent call last)",
      "\u001b[0;32m<ipython-input-10-f19efcae59d9>\u001b[0m in \u001b[0;36m<module>\u001b[0;34m()\u001b[0m\n\u001b[1;32m      4\u001b[0m \u001b[0;34m\u001b[0m\u001b[0m\n\u001b[1;32m      5\u001b[0m \u001b[0mquery\u001b[0m\u001b[0;34m=\u001b[0m\u001b[0;34m\"\"\"SELECT * FROM EMPLOYEES_VIEW\"\"\"\u001b[0m\u001b[0;34m\u001b[0m\u001b[0;34m\u001b[0m\u001b[0m\n\u001b[0;32m----> 6\u001b[0;31m \u001b[0mcursor\u001b[0m \u001b[0;34m=\u001b[0m \u001b[0mconn\u001b[0m\u001b[0;34m.\u001b[0m\u001b[0mexecute\u001b[0m\u001b[0;34m(\u001b[0m\u001b[0mquery\u001b[0m\u001b[0;34m)\u001b[0m\u001b[0;34m\u001b[0m\u001b[0;34m\u001b[0m\u001b[0m\n\u001b[0m\u001b[1;32m      7\u001b[0m \u001b[0mshowCursorData\u001b[0m\u001b[0;34m(\u001b[0m\u001b[0mcursor\u001b[0m\u001b[0;34m)\u001b[0m\u001b[0;34m\u001b[0m\u001b[0;34m\u001b[0m\u001b[0m\n\u001b[1;32m      8\u001b[0m \u001b[0;34m\u001b[0m\u001b[0m\n",
      "\u001b[0;31mOperationalError\u001b[0m: no such table: EMPLOYEES_VIEW"
     ]
    }
   ],
   "source": [
    "\n",
    "\n",
    "conn.execute(\"\"\"DROP VIEW EMPLOYEES_VIEW\"\"\")\n",
    "\n",
    "query=\"\"\"SELECT * FROM EMPLOYEES_VIEW\"\"\"\n",
    "cursor = conn.execute(query)\n",
    "showCursorData(cursor)\n",
    "   "
   ]
  }
 ],
 "metadata": {
  "colab": {
   "collapsed_sections": [],
   "name": "ADVANCED_SQL",
   "provenance": [],
   "version": "0.3.2"
  },
  "kernelspec": {
   "display_name": "Python 3",
   "language": "python",
   "name": "python3"
  },
  "language_info": {
   "codemirror_mode": {
    "name": "ipython",
    "version": 3
   },
   "file_extension": ".py",
   "mimetype": "text/x-python",
   "name": "python",
   "nbconvert_exporter": "python",
   "pygments_lexer": "ipython3",
   "version": "3.6.1"
  }
 },
 "nbformat": 4,
 "nbformat_minor": 1
}
