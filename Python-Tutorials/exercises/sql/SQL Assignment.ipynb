{
 "cells": [
  {
   "cell_type": "markdown",
   "metadata": {},
   "source": [
    "* The data model for this exercise represents a digital media store, including tables for artists, albums, media tracks, invoices and customers.\n",
    "* You can find and access the sqlite database in \"sql_exercise.sqlite\" file. \n",
    "* Connect to this database using sqlite3 to access the tables and the data in the database.  \n",
    "* You can see the schema of the database in this picture \n",
    "\n",
    "![MLCC SQL Exercise Schema](sql_exercise.png)\n"
   ]
  },
  {
   "cell_type": "markdown",
   "metadata": {},
   "source": [
    "For this assignment, try to provide appropriate queries for the problem statements given below:\n",
    "\n",
    "1. The most purchased track of 2013.\n",
    "2. The total sales per country.\n",
    "3. Which country's customers spent the most?\n",
    "4. How many Invoices were there in 2009 and 2011?\n",
    "5. The top 3 best selling artists.\n",
    "6. Which video track has the longest length?\n",
    "7. Which artists did not make any albums at all?\n",
    "8. Which artists did not record any tracks in Latin genre?\n",
    "9. Find the managers of employees supporting Brazilian customers\n",
    "10. How\tmany audio tracks in total were\tbought by German customers? And\twhat was the total price paid for them?\n",
    "11. Which playlists does not have any Latin tracks?\n",
    "12. List the names and the countries of\tthose customers\twho\tare\tsupported by an\temployee who was younger than 35 when hired\n",
    "13. Total sales made by each sales agent\n",
    "14. Total number of tracks in each playlist\n",
    "15. Which sales agent made the most in sales over all?\n",
    "16. Use a UNION to create a list of all the employee's & customer's first names and last names ordered by the last name in descending order\n",
    "17. Display the list of customer ids with the customer’s full name, and address, along with combining their city and country together. Be sure to make a space in between these two and make it UPPER CASE(Eg., MOUNTAIN VIEW USA)\n",
    "18. Show a list of employees who have worked for the company for 15 or more years and sort their lastname in ascending order.\n",
    "19. Retrieve a list with the managers last name, and the last name of the employees who report to him or her.\n",
    "20. List the tracks whose names contain numbers"
   ]
  }
 ],
 "metadata": {
  "kernelspec": {
   "display_name": "Python 3",
   "language": "python",
   "name": "python3"
  },
  "language_info": {
   "codemirror_mode": {
    "name": "ipython",
    "version": 3
   },
   "file_extension": ".py",
   "mimetype": "text/x-python",
   "name": "python",
   "nbconvert_exporter": "python",
   "pygments_lexer": "ipython3",
   "version": "3.6.1"
  }
 },
 "nbformat": 4,
 "nbformat_minor": 2
}
